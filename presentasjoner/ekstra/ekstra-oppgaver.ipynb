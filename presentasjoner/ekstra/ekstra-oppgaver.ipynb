{
 "cells": [
  {
   "cell_type": "markdown",
   "metadata": {},
   "source": [
    "# Ekstra oppgaver"
   ]
  },
  {
   "cell_type": "markdown",
   "metadata": {},
   "source": [
    "## Api og json  "
   ]
  },
  {
   "cell_type": "markdown",
   "metadata": {},
   "source": [
    "På pypi.org ligger pakker til python. Lag et python script som henter informasjon om pakken fastapi.\n",
    "\n",
    "Finn ut hvilke versjoner av Fastapi som ble publisert siste 30 dager. \n",
    "\n",
    "- For disse versjonene list ut hvilke pakke avhengigheter som denne versjonen har.\n",
    "\n",
    "\n",
    "Hint:\n",
    "- pypi.org har et api som returnerer json\n",
    "- https://pypi.org/pypi/<pakkenavn/json\n",
    "- https://pypi.org/pypi/<pakkenavn/<versjon>/json\n",
    "- Avhengigheter se requires_dist\n",
    "\n",
    "Lag et api med fastapi som har noen get funksjoner\n",
    "- Hente versjoner publisert siste 30 dager for en gitt pakke.\n",
    "- Hente ut avhengingheter for en gitt pakke og versjon\n",
    "\n",
    "Logging\n",
    "- Implementer logging i koden du har laget. Se logg_eksempel.py\n",
    "- Gi mulighet for å sette loglevel ved hjelp av input"
   ]
  },
  {
   "cell_type": "markdown",
   "metadata": {},
   "source": []
  }
 ],
 "metadata": {
  "kernelspec": {
   "display_name": "Python 3 (ipykernel)",
   "language": "python",
   "name": "python3"
  },
  "language_info": {
   "codemirror_mode": {
    "name": "ipython",
    "version": 3
   },
   "file_extension": ".py",
   "mimetype": "text/x-python",
   "name": "python",
   "nbconvert_exporter": "python",
   "pygments_lexer": "ipython3",
   "version": "3.12.1"
  }
 },
 "nbformat": 4,
 "nbformat_minor": 4
}
