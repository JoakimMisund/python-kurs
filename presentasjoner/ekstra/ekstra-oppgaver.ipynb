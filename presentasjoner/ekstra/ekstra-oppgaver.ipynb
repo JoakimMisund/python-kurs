{
 "cells": [
  {
   "cell_type": "markdown",
   "metadata": {},
   "source": [
    "# Ekstra oppgaver"
   ]
  },
  {
   "cell_type": "markdown",
   "metadata": {},
   "source": [
    "## Api og json  "
   ]
  },
  {
   "cell_type": "markdown",
   "metadata": {},
   "source": [
    "På pypi.org ligger pakker til python. Lag et python script som henter informasjon om pakken fastapi.\n",
    "\n",
    "Finn ut hvilke versjoner av Fastapi som ble publisert siste 30 dager. \n",
    "\n",
    "    For disse versjonene list ut hvilke pakke avhengigheter som denne versjonen har.\n",
    "\n",
    "\n",
    "Hint:\n",
    "    pypi.org har et api som returnerer json\n",
    "    https://pypi.org/pypi/<pakkenavn/json\n",
    "    https://pypi.org/pypi/<pakkenavn/<versjon>/json\n",
    "    Avhengigheter se requires_dist\n",
    "\n",
    "Lag et api med fastapi som har noen get funksjoner\n",
    "    Hente versjoner publisert siste 30 dager for en gitt pakke.\n",
    "    Hente ut avhengingheter for en gitt pakke og versjon\n"
   ]
  }
 ],
 "metadata": {
  "language_info": {
   "name": "python"
  }
 },
 "nbformat": 4,
 "nbformat_minor": 2
}
