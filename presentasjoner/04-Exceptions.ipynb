{
 "cells": [
  {
   "cell_type": "markdown",
   "metadata": {
    "slideshow": {
     "slide_type": "slide"
    }
   },
   "source": [
    "# 4 - Exceptions"
   ]
  },
  {
   "cell_type": "markdown",
   "metadata": {
    "slideshow": {
     "slide_type": "slide"
    }
   },
   "source": [
    "## 4.1 Generelt om exceptions"
   ]
  },
  {
   "cell_type": "markdown",
   "metadata": {
    "slideshow": {
     "slide_type": "fragment"
    }
   },
   "source": [
    "* Programmerings-konsept for å håndtere uventede eller ugyldige situasjoner\n",
    " * For å unngå at programmet krasjer\n",
    "* Flere typer exceptions, avhengig av hvilken situasjon som oppstod"
   ]
  },
  {
   "cell_type": "markdown",
   "metadata": {
    "slideshow": {
     "slide_type": "subslide"
    }
   },
   "source": [
    "## 4.2 Oppgaver: Lag noen exceptions\n",
    "Hvilke exceptions oppstår når dere:\n",
    "* Deler på 0\n",
    "* Kjører koden: \n",
    "```python\n",
    "a = 12\n",
    "\"En streng\" + a\n",
    "```\n",
    "* Kjører koden:\n",
    "```python\n",
    "a = 12\n",
    "a + \"En streng\"\n",
    "```\n",
    "* Prøver å aksessere en variabel som ikke har blitt opprettet\n",
    "* Aksesserer en nøkkel som ikke eksisterer i en dict\n",
    "* Modifisere en verdi i en tuple"
   ]
  },
  {
   "cell_type": "markdown",
   "metadata": {
    "slideshow": {
     "slide_type": "slide"
    }
   },
   "source": [
    "## 4.3 Håndtere exceptions"
   ]
  },
  {
   "cell_type": "markdown",
   "metadata": {
    "slideshow": {
     "slide_type": "fragment"
    }
   },
   "source": [
    "* Egen syntax for å håndtere exceptions\n",
    "* try-blokk\n",
    " * Her plasseres koden som kan forårsake et exception\n",
    "* except-blokk\n",
    " * Her plasseres koden som kjøres dersom et exception oppstår\n",
    "* finally-blokk\n",
    " * Koden i blokken kjøres alltid etter de andre to\n",
    " * ikke alltid relevant, og trengs derfor ikke alltid å være med"
   ]
  },
  {
   "cell_type": "code",
   "execution_count": null,
   "metadata": {
    "slideshow": {
     "slide_type": "subslide"
    }
   },
   "outputs": [],
   "source": [
    "a = 5\n",
    "b = \"tall\"\n",
    "try:\n",
    "    print(\"Inne i try-blokken\")\n",
    "    c = a / b # Her går det galt\n",
    "    print(c)\n",
    "    print(\"Etter deling\")\n",
    "except:\n",
    "    print(\"Inne i except-blokken\")\n",
    "    print(\"Her kan exceptionet håndteres\")\n",
    "finally:\n",
    "    print(\"Inne i finally-blokken\")\n",
    "    "
   ]
  },
  {
   "cell_type": "code",
   "execution_count": null,
   "metadata": {
    "slideshow": {
     "slide_type": "subslide"
    }
   },
   "outputs": [],
   "source": [
    "a = 5\n",
    "b = 2\n",
    "c = -1\n",
    "try:\n",
    "    c = a / b\n",
    "    s = \"Svaret ble \" + c\n",
    "    print(s)\n",
    "except ZeroDivisionError:\n",
    "    print(\"Du kan ikke dele på 0 :(\")\n",
    "except TypeError:\n",
    "    print(\"int-er må konverteres til strenger før konkatinering!\")\n",
    "except:\n",
    "    print(\"Generell feil\")"
   ]
  },
  {
   "cell_type": "markdown",
   "metadata": {},
   "source": [
    "### Finally\n",
    "Finally kjøres alltid, selv om exceptions blir raised eller om du returnerer ut av funksjonen der try-blokken ligger"
   ]
  },
  {
   "cell_type": "code",
   "execution_count": 8,
   "metadata": {},
   "outputs": []
    },
    {
     "data": {
      "text/plain": [
       "'Funksjonen returnerer'"
      ]
     },
     "execution_count": 8,
     "metadata": {},
     "output_type": "execute_result"
    }
   ],
   "source": [
    "def funksjon():\n",
    "    try:\n",
    "        print(\"Inne i try-blokken\")\n",
    "        a = 5\n",
    "        b = \"tall\"\n",
    "        c = a / b # Her går det galt\n",
    "        print(c)\n",
    "        print(\"Etter deling\")\n",
    "    except:\n",
    "        print(\"Inne i except-blokken\")\n",
    "        return \"Funksjonen returnerer\"\n",
    "    finally:\n",
    "        print(\"Inne i finally-blokken\")\n",
    "\n",
    "print(funksjon())"
   ]
  },
  {
   "cell_type": "markdown",
   "metadata": {
    "slideshow": {
     "slide_type": "slide"
    }
   },
   "source": [
    "## 4.4 Oppgaver: håndtere exceptions"
   ]
  },
  {
   "cell_type": "markdown",
   "metadata": {
    "slideshow": {
     "slide_type": "fragment"
    }
   },
   "source": [
    "* Lag exception handlere for de dere lagde i forrige oppgave\n",
    "* Håndtere feilen på best mulig måte, eller bare printe en feilmelding"
   ]
  }
 ],
 "metadata": {
  "celltoolbar": "Slideshow",
  "kernelspec": {
   "display_name": "Python 3 (ipykernel)",
   "language": "python",
   "name": "python3"
  },
  "language_info": {
   "codemirror_mode": {
    "name": "ipython",
    "version": 3
   },
   "file_extension": ".py",
   "mimetype": "text/x-python",
   "name": "python",
   "nbconvert_exporter": "python",
   "pygments_lexer": "ipython3",
   "version": "3.10.7"
  },
  "livereveal": {
   "height": 1200,
   "width": 1600
  },
  "vscode": {
   "interpreter": {
    "hash": "916dbcbb3f70747c44a77c7bcd40155683ae19c65e1c03b4aa3499c5328201f1"
   }
  }
 },
 "nbformat": 4,
 "nbformat_minor": 4
}
