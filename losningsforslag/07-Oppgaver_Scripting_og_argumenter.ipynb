{
 "cells": [
  {
   "cell_type": "markdown",
   "metadata": {},
   "source": [
    "## 7.2 Oppgaver: Lag et enkelt script"
   ]
  },
  {
   "cell_type": "markdown",
   "metadata": {},
   "source": [
    "* Lag ett enkelt script med en main funksjon, og en if (som vist på forrige slide)\n",
    "* main funksjonen skal innholde:\n",
    " * en eviggående while-løkke som:\n",
    "  * Spør brukeren (med input()) om hva han/hun ønsker å gjøre\n",
    "  * Dersom brukeren skriver \"avslutt\", skal du hoppe ut av løkken (med break), og avslutte scriptet\n",
    "  * Dersom brukeren skriver \"sum\", skal scriptet spørre om to tall, som summeres og printes\n",
    "  * Dersom brukeren skriver noe annet, skal scriptet printe en feilmelding, og spørre på nytt\n",
    "  \n",
    "  \n",
    "* Hint: Dersom noe går galt og du ikke kommer ut av scriptet, kan du trykke ctrl-C for å avslutte det"
   ]
  },
  {
   "cell_type": "code",
   "execution_count": null,
   "metadata": {},
   "outputs": [],
   "source": [
    "def sum(tall1=0, tall2=0):\n",
    "    print(\"Summen er:\", tall1 + tall2 )\n",
    "\n",
    "def main():\n",
    "    while True:\n",
    "        a = input(\"Hva vil du gjøre\")\n",
    "        if a == \"avslutt\":\n",
    "            break\n",
    "        elif a == \"sum\":\n",
    "            x = int(input(\"Tall 1\"))\n",
    "            y = int(input(\"Tall 2\"))\n",
    "            sum(x,y)\n",
    "        else:\n",
    "            print(\"Ugyldig kommando\")\n",
    "\n",
    "if __name__ == '__main__':\n",
    "    main()"
   ]
  },
  {
   "cell_type": "markdown",
   "metadata": {},
   "source": [
    "## 7.3 Oppgaver: Manuelle argumenter med sys.argv"
   ]
  },
  {
   "cell_type": "markdown",
   "metadata": {},
   "source": [
    "Lag et python skript som gjør følgende:\n",
    "- Blir skriptet startet med –h, så skal en kort tekst om hvordan skriptet brukes skrives til skjermen.\n",
    "- Blir skriptet startet –c n (hvor n er et naturlig tall), så skal en funksjon startes med argumentet etter –c. \n",
    "    - Denne funksjonen skal gi ut alle tall fra 0 til n\n",
    "- Blir skriptet startet med –s str (hvor str er en streng), så skal en funksjon startes med argumentet etter –s. \n",
    "    - Denne funksjonen skal beregne lengden på strengen og lage en ny streng av hver andre bokstav i den gitte strengen. \n",
    "    - Bruk f.eks len(str) og streng[i]"
   ]
  },
  {
   "cell_type": "code",
   "execution_count": null,
   "metadata": {},
   "outputs": [],
   "source": [
    "import sys\n",
    "\n",
    "def main():\n",
    "    if \"-h\" in sys.argv:\n",
    "        print(\"Bruk -c n hvor n er ett tall.\")\n",
    "        print(\"Bruk -s str hvor str er en string.\")\n",
    "    elif \"-c\" in sys.argv:\n",
    "       print(list(range(0,int(sys.argv[2])+1)))\n",
    "    elif \"-s\" in sys.argv:                                # Kjør sum med 0 argumenter\n",
    "        streng = sys.argv[2]\n",
    "        print(\"Lengden på strengen er \", len(streng))\n",
    "        for i in range(1,len(streng),2):\n",
    "            print(\"Ny streng \", streng[i])\n",
    "    \n",
    "if __name__ == '__main__':\n",
    "    main()"
   ]
  },
  {
   "cell_type": "raw",
   "metadata": {},
   "source": [
    "## 7.4 Oppgaver: Bruk argparse eller typer"
   ]
  },
  {
   "cell_type": "markdown",
   "metadata": {},
   "source": [
    "Lag et python skript som gjør følgende (Samme funksjonalitet som forrige oppgave):\n",
    "- Blir skriptet startet med –h, så skal en kort tekst om hvordan skriptet brukes skrives til skjermen.\n",
    "- Blir skriptet startet –c n (hvor n er et naturlig tall), så skal en funksjon startes med argumentet etter –c. \n",
    "    - Denne funksjonen skal gi ut alle tall fra 0 til n\n",
    "- Blir skriptet startet med –s str (hvor str er en streng), så skal en funksjon startes med argumentet etter –s. \n",
    "    - Denne funksjonen skal beregne lengden på strengen og lage en ny streng av hver andre bokstav i den gitte strengen. \n",
    "    - Bruk f.eks len(str) og streng[i]"
   ]
  },
  {
   "cell_type": "code",
   "execution_count": null,
   "metadata": {},
   "outputs": [],
   "source": [
    "import argparse\n",
    "import typer\n",
    "from typing import Optional\n",
    "\n",
    "def streng_func(s):\n",
    "    print(\"Lengden på strengen er \", len(s))\n",
    "    for i in range(1,len(s),2):\n",
    "        print(\"Ny streng \", s[i])\n",
    "\n",
    "def argsparse_example():\n",
    "    parser = argparse.ArgumentParser()\n",
    "    parser.add_argument('-c', type=int,required=False, help='Input ett tall')\n",
    "    parser.add_argument('-s', type=str,required=False, help='Input en streng')\n",
    "    args = parser.parse_args()\n",
    "    if args.c:\n",
    "         print(list(range(0,int(args.c)+1)))  \n",
    "    elif args.s:\n",
    "        streng_func(args.s)\n",
    "\n",
    "def typer_example(\n",
    "          tall: Optional[int] = typer.Option(default=None, help=\"Input ett tall\"),\n",
    "          streng: Optional[str] = typer.Option(default=None,help=\"Input en streng\"),\n",
    "    ):\n",
    "    if tall is not None:\n",
    "        print(list(range(0,int(tall)+1))) \n",
    "    if streng is not None:\n",
    "        streng_func(streng)\n",
    "\n",
    "\n",
    "if __name__ == '__main__':\n",
    "    argsparse_example()\n",
    "    #typer.run(typer_example)"
   ]
  }
 ],
 "metadata": {
  "kernelspec": {
   "display_name": "Python 3 (ipykernel)",
   "language": "python",
   "name": "python3"
  },
  "language_info": {
   "codemirror_mode": {
    "name": "ipython",
    "version": 3
   },
   "file_extension": ".py",
   "mimetype": "text/x-python",
   "name": "python",
   "nbconvert_exporter": "python",
   "pygments_lexer": "ipython3",
   "version": "3.12.1"
  }
 },
 "nbformat": 4,
 "nbformat_minor": 4
}
